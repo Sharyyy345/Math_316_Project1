{
 "cells": [
  {
   "cell_type": "markdown",
   "id": "8c5bad7c",
   "metadata": {},
   "source": [
    "# Phase 1 - Initial Exploration\n",
    "\n",
    "Goals:\n",
    "- Load data\n",
    "- Gather basic info (shape, column names, data types, etc.)\n",
    "- Generate summary statistics\n",
    "- Identify and understand distribution of key variables\n",
    "- Establish 3 questions to answer w/ data\n",
    "\n",
    "Deliverables/Outcomes:\n",
    "- Quarto slidedeck (5-10 slides) summarizing findings"
   ]
  },
  {
   "cell_type": "markdown",
   "id": "3c9a1c30",
   "metadata": {},
   "source": [
    "## Load Data\n",
    "\n",
    "We are working with the Detections of Highly Pathogenic Avian Influenza (HPAI) in Wild Birds dataset from the USDA. This tabular CSV dataset contains data regarding confirmed HPAI cases for birds in the US. Data goes back to 2022 and is regularly updated."
   ]
  },
  {
   "cell_type": "code",
   "execution_count": null,
   "id": "2f1efc89",
   "metadata": {},
   "outputs": [
    {
     "name": "stdout",
     "output_type": "stream",
     "text": [
      "          State    County Collection Date Date Detected HPAI Strain  \\\n",
      "0  North Dakota      Cass       9/12/2025     9/19/2025       EA H5   \n",
      "1  Pennsylvania     Bucks        9/8/2025     9/19/2025       EA H5   \n",
      "2  Pennsylvania  Delaware        9/4/2025     9/19/2025       EA H5   \n",
      "3    New Jersey    Warren       9/11/2025     9/19/2025       EA H5   \n",
      "4    New Jersey    Warren       9/11/2025     9/19/2025       EA H5   \n",
      "\n",
      "    Bird Species WOAH Classification      Sampling Method   Submitting Agency  \n",
      "0   Canada goose           Wild bird  Morbidity/Mortality    ND Game and Fish  \n",
      "1  Black vulture           Wild bird  Morbidity/Mortality  PA Game Commission  \n",
      "2  Black vulture           Wild bird  Morbidity/Mortality  PA Game Commission  \n",
      "3  Black vulture           Wild bird  Morbidity/Mortality              NJ DEP  \n",
      "4  Black vulture           Wild bird  Morbidity/Mortality              NJ DEP  \n"
     ]
    }
   ],
   "source": [
    "import pandas as pd\n",
    "\n",
    "dataset_path = '../data/HPAI Detections in Wild Birds.csv'\n",
    "hpai_data = pd.read_csv(dataset_path)\n",
    "\n",
    "print(hpai_data.head(n=5)) # view the first 5 rows of the dataset\n"
   ]
  },
  {
   "cell_type": "markdown",
   "id": "e49a10b6",
   "metadata": {},
   "source": [
    "## Gather Basic Info\n",
    "\n",
    "- Shape (number of rows and columns)\n",
    "- Column names and data types\n",
    "- Possible values and their meanings"
   ]
  }
 ],
 "metadata": {
  "kernelspec": {
   "display_name": "math316",
   "language": "python",
   "name": "python3"
  },
  "language_info": {
   "codemirror_mode": {
    "name": "ipython",
    "version": 3
   },
   "file_extension": ".py",
   "mimetype": "text/x-python",
   "name": "python",
   "nbconvert_exporter": "python",
   "pygments_lexer": "ipython3",
   "version": "3.13.0"
  }
 },
 "nbformat": 4,
 "nbformat_minor": 5
}
