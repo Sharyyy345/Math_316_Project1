{
 "cells": [
  {
   "cell_type": "markdown",
   "id": "8c5bad7c",
   "metadata": {},
   "source": [
    "# Phase 1 - Initial Exploration\n",
    "\n",
    "Goals:\n",
    "- Load data\n",
    "- Gather basic info (shape, column names, data types, etc.)\n",
    "- Generate summary statistics\n",
    "- Identify and understand distribution of key variables\n",
    "- Establish 3 questions to answer w/ data\n",
    "\n",
    "Deliverables/Outcomes:\n",
    "- Quarto slidedeck (5-10 slides) summarizing findings"
   ]
  }
 ],
 "metadata": {
  "language_info": {
   "name": "python"
  }
 },
 "nbformat": 4,
 "nbformat_minor": 5
}
