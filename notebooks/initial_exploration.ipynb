{
 "cells": [
  {
   "cell_type": "markdown",
   "id": "8c5bad7c",
   "metadata": {},
   "source": [
    "# Phase 1 - Initial Exploration\n",
    "\n",
    "Goals:\n",
    "- Load data\n",
    "- Gather basic info (shape, column names, data types, etc.)\n",
    "- Generate summary statistics\n",
    "- Identify and understand distribution of key variables\n",
    "- Establish 3 questions to answer w/ data\n",
    "\n",
    "Deliverables/Outcomes:\n",
    "- Quarto slidedeck (5-10 slides) summarizing findings"
   ]
  },
  {
   "cell_type": "markdown",
   "id": "3c9a1c30",
   "metadata": {},
   "source": [
    "## Load Data\n",
    "\n",
    "We are working with the Detections of Highly Pathogenic Avian Influenza (HPAI) in Wild Birds dataset from the USDA. This tabular CSV dataset contains data regarding confirmed HPAI cases for birds in the US. Data goes back to 2022 and is regularly updated."
   ]
  },
  {
   "cell_type": "code",
   "execution_count": 2,
   "id": "2f1efc89",
   "metadata": {},
   "outputs": [
    {
     "name": "stdout",
     "output_type": "stream",
     "text": [
      "          State    County Collection Date Date Detected HPAI Strain  \\\n",
      "0  North Dakota      Cass       9/12/2025     9/19/2025       EA H5   \n",
      "1  Pennsylvania     Bucks        9/8/2025     9/19/2025       EA H5   \n",
      "2  Pennsylvania  Delaware        9/4/2025     9/19/2025       EA H5   \n",
      "3    New Jersey    Warren       9/11/2025     9/19/2025       EA H5   \n",
      "4    New Jersey    Warren       9/11/2025     9/19/2025       EA H5   \n",
      "\n",
      "    Bird Species WOAH Classification      Sampling Method   Submitting Agency  \n",
      "0   Canada goose           Wild bird  Morbidity/Mortality    ND Game and Fish  \n",
      "1  Black vulture           Wild bird  Morbidity/Mortality  PA Game Commission  \n",
      "2  Black vulture           Wild bird  Morbidity/Mortality  PA Game Commission  \n",
      "3  Black vulture           Wild bird  Morbidity/Mortality              NJ DEP  \n",
      "4  Black vulture           Wild bird  Morbidity/Mortality              NJ DEP  \n"
     ]
    }
   ],
   "source": [
    "import pandas as pd\n",
    "\n",
    "dataset_path = '../data/HPAI Detections in Wild Birds.csv'\n",
    "hpai_data = pd.read_csv(dataset_path)\n",
    "\n",
    "print(hpai_data.head(n=5)) # view the first 5 rows of the dataset\n"
   ]
  },
  {
   "cell_type": "markdown",
   "id": "e49a10b6",
   "metadata": {},
   "source": [
    "## Gather Basic Info\n",
    "\n",
    "- Shape (number of rows and columns)\n",
    "- Column names and data types\n",
    "- Possible values and their meanings"
   ]
  },
  {
   "cell_type": "code",
   "execution_count": 12,
   "id": "24441407",
   "metadata": {},
   "outputs": [
    {
     "name": "stdout",
     "output_type": "stream",
     "text": [
      "number of rows: 14497\n",
      "number of columns: 9\n",
      "column names:  Index(['State', 'County', 'Collection Date', 'Date Detected', 'HPAI Strain',\n",
      "       'Bird Species', 'WOAH Classification', 'Sampling Method',\n",
      "       'Submitting Agency'],\n",
      "      dtype='object')\n",
      "States:  ['North Dakota' 'Pennsylvania' 'New Jersey' 'Iowa' 'Wyoming' 'Wisconsin'\n",
      " 'Illinois' 'North Carolina' 'Montana' 'Minnesota' 'Idaho' 'Maryland'\n",
      " 'Colorado' 'New Hampshire' 'Alaska' 'Ohio' 'Utah' 'New York' 'Vermont'\n",
      " 'Rhode Island' 'Connecticut' 'Virginia' 'Nebraska' 'South Dakota' 'Maine'\n",
      " 'Massachusetts' 'Michigan' 'Florida' 'Missouri' 'Nevada' 'Louisiana'\n",
      " 'California' 'Arkansas' 'Georgia' 'West Virginia' 'Indiana' 'Kentucky'\n",
      " 'Alabama' 'Oregon' 'Texas' 'Oklahoma' 'Arizona' 'Tennessee' 'Washington'\n",
      " 'Mississippi' 'Delaware' 'South Carolina' 'Kansas' 'New Mexico' 'Hawaii'\n",
      " 'DC']\n",
      "HPAI Strains:  ['EA H5' 'EA/AM H5N1' 'EA H5N5' 'EA H5N1' 'EA/AM H5 mixed'\n",
      " 'EA/AM H5N1 mixed' 'EA H5 mixed' 'EA/AM H5' nan 'EA H5N1 mixed'\n",
      " 'EA/AM H5N2' 'EA H5N1 Mixed' 'EA/AM H5N6']\n",
      "Species:  ['Canada goose' 'Black vulture' 'Wood duck' 'Mallard'\n",
      " 'American white pelican' 'Blue-winged teal' 'Peregrine falcon'\n",
      " \"Swainson's hawk\" 'Vulture (unidentified)' 'Bald eagle'\n",
      " 'Green-winged teal' 'Redhead duck' 'Teal (unidentified)' 'Gadwall'\n",
      " 'Turkey vulture' 'Glaucous-winged gull' 'Cackling goose'\n",
      " 'American black duck' 'Great horned owl' 'Fish crow'\n",
      " 'Great black-backed gull' 'Ring-billed gull' 'Common eider'\n",
      " 'Red-breasted merganser' 'Bufflehead' 'Common raven' 'Common grackle'\n",
      " 'Snowy owl' 'Herring gull' 'Common tern' 'Red-shouldered hawk'\n",
      " 'American crow' 'Hawk (unidentified)' 'American Goshawk'\n",
      " 'Gull (unidentified)' 'Wild turkey' 'Blue jay' 'Red-tailed hawk'\n",
      " 'Dark-eyed junco' 'Long-eared owl' 'Caspian tern' 'American wood stork'\n",
      " 'American robin' 'Common loon' 'Snow goose' \"Ross's goose\"\n",
      " 'Northern shoveler' 'Goose (unidentified)' 'Duck (unidentified)'\n",
      " 'Western sandpiper' 'House sparrow' 'Northern pintail' \"Cooper's hawk\"\n",
      " 'Mute swan' 'Tundra swan' 'Trumpeter swan' 'Hooded merganser'\n",
      " 'Lesser scaup' 'Great blue heron' 'Golden eagle' 'Swan (unidentified)'\n",
      " 'Double-crested cormorant' 'Horned lark' 'Sandhill crane'\n",
      " \"Bonaparte's gull\" 'Brown pelican' 'Crow (unidentified)' 'Glaucous gull'\n",
      " 'Barn owl' 'Laughing gull' 'Merganser (unidentified)'\n",
      " 'Heron (unidentified)' 'Common goldeneye' 'Sanderling' 'Eared grebe'\n",
      " 'Barred owl' 'Western gull' 'Dunlin' 'Great egret' 'California gull'\n",
      " 'Rock pigeon' 'American wigeon' 'American woodcock' 'Pied-billed grebe'\n",
      " 'Common merganser' \"Gambel's quail\" 'Black-necked stilt' 'Mourning Dove'\n",
      " 'Great-tailed grackle' 'American kestrel' 'Crested caracara'\n",
      " 'Black scoter' 'Royal tern' 'Ring-necked duck' 'Muscovy duck'\n",
      " 'American coot' 'Northern harrier' 'Osprey' 'Snowy plover' 'Surf scoter'\n",
      " 'White-winged scoter' 'European starling' 'Swallow (unidentified)'\n",
      " 'Flamingo (unidentified)' 'Greater white-fronted goose'\n",
      " 'Chilean flamingo' 'Grackle (unidentified)' 'Mallard/Black duck hybrid'\n",
      " 'Ruddy duck' 'Greater scaup' 'House finch' 'Wild hybrid duck (Anatidae)'\n",
      " 'Broad-winged hawk' 'Canvasback' 'Horned grebe' \"Say's phoebe\"\n",
      " \"Brewer's blackbird\" 'Red-breasted goose' \"Lincoln's sparrow\"\n",
      " 'Pelican (unidentified)' 'Mourning dove' 'White-winged dove'\n",
      " 'Fulvous whistling duck' 'Black-bellied whistling duck' 'Song sparrow'\n",
      " 'Kookaburra (unidentified)' 'Owl (unidentified)' 'Mottled duck'\n",
      " \"Say's Phoebe\" 'White-crowned sparrow' 'White-faced ibis'\n",
      " 'Short-eared owl' 'Savannah sparrow' 'Cinnamon teal'\n",
      " 'Eurasian collared dove' 'Black skimmer' 'Gannet' 'Willet'\n",
      " 'California quail' 'american wigeon' 'greater scaup' 'Northern fulmar'\n",
      " 'Magpie (unidentified)' 'Black-billed magpie' 'Long-tailed duck'\n",
      " 'bufflehead' 'Western kingbird' 'Lark bunting' 'Lark sparrow'\n",
      " 'Red-winged blackbird' 'Barn swallow' 'Summer tanager' 'Brant'\n",
      " 'Ruddy turnstone' 'Northen pintail' 'Pigeon (unidentified)'\n",
      " 'Blackbird (unidentified)' 'Merlin' 'Black-neck swan' 'Black swan'\n",
      " 'Cattle egret' 'Red-necked grebe' 'Harris hawk' 'Black-bellied plover'\n",
      " 'Ring-Necked Duck' 'Ruddy Duck' 'Black turnstone' 'Plush-crested jay'\n",
      " 'Scarlet ibis' 'King vulture' 'Ring necked duck' 'Sharp-shinned hawk'\n",
      " 'Ring-necked Duck' 'Black-legged kittiwake' 'Common murre'\n",
      " 'Short-tailed shearwater' 'Turkey Vulture' 'Ferruginous hawk'\n",
      " 'California condor' 'Razorbill' 'Eastern screech owl'\n",
      " \"Brandt's cormorant\" 'Snowy egret' 'Rough-legged hawk'\n",
      " 'Western screech owl' 'Black Vulture' 'Northern gannet'\n",
      " 'Red-necked phalarope' 'Peafowl (unidentified)' 'Western grebe'\n",
      " 'Pacific loon' 'American Kestrel' 'Greater sage grouse' 'Sandwich tern'\n",
      " 'Prairie falcon' 'Lesser flamingo' 'Black-crowned night heron'\n",
      " 'Cormorant (unidentified)' 'Green heron' 'Greater rhea' \"Thayer's gull\"\n",
      " 'Peregrine Falcon' 'Dalmatian pelican' 'Roseate spoonbill'\n",
      " 'Finch (unidentified)' 'Lorikeet (unidentified)' 'Ruffed grouse'\n",
      " 'Glossy ibis' \"Forster's tern\" 'Egyptian goose' 'Scaly-sided merganser'\n",
      " 'Smew' \"Baer's pochard\" 'Warbler (unidentified)' 'Swan goose' 'Puna teal'\n",
      " 'Brazilian teal' 'Rhea (unidentified)' 'Emu' 'African crowned crane'\n",
      " 'Boat-tailed grackle' 'Eider (unidentified)' 'Crested screamer'\n",
      " 'Crane (unidentified)' 'Tree swallow' 'glaucous gull' 'Parasitic jaeger'\n",
      " 'Arctic tern' 'Short-billed gull' 'Eagle (unidentified)' \"Sabine's gull\"\n",
      " 'Neotropic cormorant' 'Ring-necked pheasant' 'Wood Duck' 'Baikal teal'\n",
      " 'Pheasant (unidentified)']\n",
      "WOAH Classifications:  ['Wild bird' 'Captive wild bird' 'Wild Bird']\n",
      "Sampling Methods:  ['Morbidity/Mortality' 'Live bird' 'Hunter harvest' 'Agency harvest'\n",
      " 'Hunter Harvest']\n"
     ]
    }
   ],
   "source": [
    "num_rows = len(hpai_data)\n",
    "\n",
    "print(\"number of rows:\", num_rows)\n",
    "\n",
    "num_columns = len(hpai_data.columns)\n",
    "\n",
    "print(\"number of columns:\", num_columns)\n",
    "\n",
    "print(\"column names: \", hpai_data.columns)\n",
    "\n",
    "print(\"States: \", hpai_data.State.unique())\n",
    "\n",
    "print(\"HPAI Strains: \", hpai_data[\"HPAI Strain\"].unique())\n",
    "\n",
    "print(\"Species: \", hpai_data[\"Bird Species\"].unique())\n",
    "\n",
    "print(\"WOAH Classifications: \", hpai_data[\"WOAH Classification\"].unique())\n",
    "\n",
    "print(\"Sampling Methods: \", hpai_data[\"Sampling Method\"].unique())"
   ]
  },
  {
   "cell_type": "code",
   "execution_count": null,
   "id": "ad770b0f",
   "metadata": {},
   "outputs": [
    {
     "name": "stdout",
     "output_type": "stream",
     "text": [
      "WOAH Classifications:  ['Wild bird' 'Captive wild bird']\n"
     ]
    }
   ],
   "source": [
    "# Replaced 'Wild Bird' rows with 'Wild bird' since they are the same category and having two of the same category was redundant.\n",
    "\n",
    "df1 = hpai_data.replace(\"Wild Bird\", \"Wild bird\")\n",
    "\n",
    "print(\"WOAH Classifications: \", df1[\"WOAH Classification\"].unique())"
   ]
  },
  {
   "cell_type": "markdown",
   "id": "18f6966e",
   "metadata": {},
   "source": [
    "## Generate Summary Statistics\n",
    "\n"
   ]
  },
  {
   "cell_type": "code",
   "execution_count": 16,
   "id": "658b0498",
   "metadata": {},
   "outputs": [
    {
     "data": {
      "text/html": [
       "<div>\n",
       "<style scoped>\n",
       "    .dataframe tbody tr th:only-of-type {\n",
       "        vertical-align: middle;\n",
       "    }\n",
       "\n",
       "    .dataframe tbody tr th {\n",
       "        vertical-align: top;\n",
       "    }\n",
       "\n",
       "    .dataframe thead th {\n",
       "        text-align: right;\n",
       "    }\n",
       "</style>\n",
       "<table border=\"1\" class=\"dataframe\">\n",
       "  <thead>\n",
       "    <tr style=\"text-align: right;\">\n",
       "      <th></th>\n",
       "      <th>State</th>\n",
       "      <th>County</th>\n",
       "      <th>Collection Date</th>\n",
       "      <th>Date Detected</th>\n",
       "      <th>HPAI Strain</th>\n",
       "      <th>Bird Species</th>\n",
       "      <th>WOAH Classification</th>\n",
       "      <th>Sampling Method</th>\n",
       "      <th>Submitting Agency</th>\n",
       "    </tr>\n",
       "  </thead>\n",
       "  <tbody>\n",
       "    <tr>\n",
       "      <th>count</th>\n",
       "      <td>14497</td>\n",
       "      <td>14497</td>\n",
       "      <td>14497</td>\n",
       "      <td>14497</td>\n",
       "      <td>14496</td>\n",
       "      <td>14497</td>\n",
       "      <td>14497</td>\n",
       "      <td>14497</td>\n",
       "      <td>14497</td>\n",
       "    </tr>\n",
       "    <tr>\n",
       "      <th>unique</th>\n",
       "      <td>51</td>\n",
       "      <td>974</td>\n",
       "      <td>1017</td>\n",
       "      <td>610</td>\n",
       "      <td>12</td>\n",
       "      <td>236</td>\n",
       "      <td>2</td>\n",
       "      <td>5</td>\n",
       "      <td>127</td>\n",
       "    </tr>\n",
       "    <tr>\n",
       "      <th>top</th>\n",
       "      <td>Florida</td>\n",
       "      <td>Brevard</td>\n",
       "      <td>Unknown</td>\n",
       "      <td>10/25/2022</td>\n",
       "      <td>EA/AM H5N1</td>\n",
       "      <td>Mallard</td>\n",
       "      <td>Wild bird</td>\n",
       "      <td>Morbidity/Mortality</td>\n",
       "      <td>NWDP</td>\n",
       "    </tr>\n",
       "    <tr>\n",
       "      <th>freq</th>\n",
       "      <td>844</td>\n",
       "      <td>434</td>\n",
       "      <td>204</td>\n",
       "      <td>375</td>\n",
       "      <td>6479</td>\n",
       "      <td>2548</td>\n",
       "      <td>13446</td>\n",
       "      <td>7548</td>\n",
       "      <td>7758</td>\n",
       "    </tr>\n",
       "  </tbody>\n",
       "</table>\n",
       "</div>"
      ],
      "text/plain": [
       "          State   County Collection Date Date Detected HPAI Strain  \\\n",
       "count     14497    14497           14497         14497       14496   \n",
       "unique       51      974            1017           610          12   \n",
       "top     Florida  Brevard         Unknown    10/25/2022  EA/AM H5N1   \n",
       "freq        844      434             204           375        6479   \n",
       "\n",
       "       Bird Species WOAH Classification      Sampling Method Submitting Agency  \n",
       "count         14497               14497                14497             14497  \n",
       "unique          236                   2                    5               127  \n",
       "top         Mallard           Wild bird  Morbidity/Mortality              NWDP  \n",
       "freq           2548               13446                 7548              7758  "
      ]
     },
     "execution_count": 16,
     "metadata": {},
     "output_type": "execute_result"
    }
   ],
   "source": [
    "df1.describe()"
   ]
  },
  {
   "cell_type": "markdown",
   "id": "0c102a66",
   "metadata": {},
   "source": [
    "## Identifying Distributions of Key Variables"
   ]
  },
  {
   "cell_type": "code",
   "execution_count": null,
   "id": "5e43e36c",
   "metadata": {},
   "outputs": [],
   "source": []
  }
 ],
 "metadata": {
  "kernelspec": {
   "display_name": "project1 (3.12.3)",
   "language": "python",
   "name": "python3"
  },
  "language_info": {
   "codemirror_mode": {
    "name": "ipython",
    "version": 3
   },
   "file_extension": ".py",
   "mimetype": "text/x-python",
   "name": "python",
   "nbconvert_exporter": "python",
   "pygments_lexer": "ipython3",
   "version": "3.12.3"
  }
 },
 "nbformat": 4,
 "nbformat_minor": 5
}
